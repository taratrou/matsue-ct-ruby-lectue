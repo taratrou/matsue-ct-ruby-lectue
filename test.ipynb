{
  "nbformat": 4,
  "nbformat_minor": 0,
  "metadata": {
    "colab": {
      "name": "test.ipynb",
      "provenance": [],
      "collapsed_sections": [],
      "authorship_tag": "ABX9TyP7FIkb/uW454UvK1bfR203",
      "include_colab_link": true
    },
    "kernelspec": {
      "name": "python3",
      "display_name": "Python 3"
    },
    "language_info": {
      "name": "python"
    }
  },
  "cells": [
    {
      "cell_type": "markdown",
      "metadata": {
        "id": "view-in-github",
        "colab_type": "text"
      },
      "source": [
        "<a href=\"https://colab.research.google.com/github/taratrou/matsue-ct-ruby-lectue/blob/master/test.ipynb\" target=\"_parent\"><img src=\"https://colab.research.google.com/assets/colab-badge.svg\" alt=\"Open In Colab\"/></a>"
      ]
    },
    {
      "cell_type": "code",
      "metadata": {
        "colab": {
          "base_uri": "https://localhost:8080/"
        },
        "id": "whvkngUncxSb",
        "outputId": "1c3c9e8d-9d47-4bfd-be73-8ed8aee645de"
      },
      "source": [
        "import numpy as np\n",
        "\n",
        "a = np.array([0,1,2,3])\n",
        "\n",
        "a = a.reshape(2,2)\n",
        "\n",
        "print(a)"
      ],
      "execution_count": null,
      "outputs": [
        {
          "output_type": "stream",
          "text": [
            "[[0 1]\n",
            " [2 3]]\n"
          ],
          "name": "stdout"
        }
      ]
    },
    {
      "cell_type": "code",
      "metadata": {
        "colab": {
          "base_uri": "https://localhost:8080/"
        },
        "id": "9AE5fX7ydnDq",
        "outputId": "fc981a3f-23b6-41aa-e431-7ab2f90f93fe"
      },
      "source": [
        "b = np.array([2,3,4,5])\n",
        "\n",
        "b = b.reshape(2,2)\n",
        "\n",
        "print(a + b)"
      ],
      "execution_count": null,
      "outputs": [
        {
          "output_type": "stream",
          "text": [
            "[[2 4]\n",
            " [6 8]]\n"
          ],
          "name": "stdout"
        }
      ]
    },
    {
      "cell_type": "code",
      "metadata": {
        "colab": {
          "base_uri": "https://localhost:8080/"
        },
        "id": "XFwtWEhId_D8",
        "outputId": "ef491a59-2532-41e8-b896-cff09b628fcc"
      },
      "source": [
        "print(a@b)"
      ],
      "execution_count": null,
      "outputs": [
        {
          "output_type": "stream",
          "text": [
            "[[ 4  5]\n",
            " [16 21]]\n"
          ],
          "name": "stdout"
        }
      ]
    }
  ]
}